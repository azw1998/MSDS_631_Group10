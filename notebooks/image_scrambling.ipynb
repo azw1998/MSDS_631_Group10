{
 "cells": [
  {
   "cell_type": "code",
   "execution_count": 1,
   "id": "2ecfc886",
   "metadata": {},
   "outputs": [],
   "source": [
    "from PIL import Image \n",
    "from IPython.display import display"
   ]
  },
  {
   "cell_type": "code",
   "execution_count": 2,
   "id": "4ef2f399",
   "metadata": {},
   "outputs": [],
   "source": [
    "lake_img = Image.open('lake.jpeg')"
   ]
  },
  {
   "cell_type": "code",
   "execution_count": 6,
   "id": "3efa7192",
   "metadata": {},
   "outputs": [],
   "source": [
    "import os"
   ]
  },
  {
   "cell_type": "code",
   "execution_count": 8,
   "id": "b0b1449d",
   "metadata": {},
   "outputs": [
    {
     "data": {
      "text/plain": [
       "[]"
      ]
     },
     "execution_count": 8,
     "metadata": {},
     "output_type": "execute_result"
    }
   ],
   "source": [
    "os.listdir('/Users/anthonywang/Deep_Learning/landscape_scrambled/')"
   ]
  },
  {
   "cell_type": "code",
   "execution_count": 13,
   "id": "c3b191b6",
   "metadata": {},
   "outputs": [],
   "source": [
    "import numpy as np"
   ]
  },
  {
   "cell_type": "code",
   "execution_count": 14,
   "id": "19d420e2",
   "metadata": {},
   "outputs": [],
   "source": [
    "def get_scrambled_img(arr, x, y, r):\n",
    "    arr_copy = np.copy(arr)\n",
    "    square = np.copy(arr[x-r:x+r, y-r:y+r, :])\n",
    "    np.random.shuffle(square)\n",
    "    arr_copy[x-r:x+r, y-r:y+r, :] = square\n",
    "    return arr_copy"
   ]
  },
  {
   "cell_type": "code",
   "execution_count": 8,
   "id": "8301d9e6",
   "metadata": {},
   "outputs": [],
   "source": [
    "old_square = np.copy(lake_data[100:300, 100:300, :])\n",
    "new_square = np.copy(lake_data[100:300, 100:300, :])"
   ]
  },
  {
   "cell_type": "code",
   "execution_count": 31,
   "id": "1bab487f",
   "metadata": {},
   "outputs": [],
   "source": [
    "def get_discolored_img(arr, x, y, r, discolor_ratio=1):\n",
    "    arr_copy = np.copy(arr)\n",
    "    square = np.copy(arr[x-r:x+r, y-r:y+r, :])\n",
    "    arr_copy[x-r:x+r, y-r:y+r, :] = discolor_ratio*square\n",
    "    return arr_copy"
   ]
  },
  {
   "cell_type": "code",
   "execution_count": 25,
   "id": "cb776ff6",
   "metadata": {},
   "outputs": [],
   "source": [
    "import pandas as pd"
   ]
  },
  {
   "cell_type": "code",
   "execution_count": 71,
   "id": "085a7f50",
   "metadata": {},
   "outputs": [
    {
     "data": {
      "text/html": [
       "<div>\n",
       "<style scoped>\n",
       "    .dataframe tbody tr th:only-of-type {\n",
       "        vertical-align: middle;\n",
       "    }\n",
       "\n",
       "    .dataframe tbody tr th {\n",
       "        vertical-align: top;\n",
       "    }\n",
       "\n",
       "    .dataframe thead th {\n",
       "        text-align: right;\n",
       "    }\n",
       "</style>\n",
       "<table border=\"1\" class=\"dataframe\">\n",
       "  <thead>\n",
       "    <tr style=\"text-align: right;\">\n",
       "      <th></th>\n",
       "      <th>x</th>\n",
       "      <th>y</th>\n",
       "      <th>r</th>\n",
       "      <th>discolor_ratio</th>\n",
       "      <th>img_path</th>\n",
       "    </tr>\n",
       "  </thead>\n",
       "  <tbody>\n",
       "    <tr>\n",
       "      <th>0</th>\n",
       "      <td>599</td>\n",
       "      <td>120</td>\n",
       "      <td>89</td>\n",
       "      <td>1.08</td>\n",
       "      <td>/Users/anthonywang/Deep_Learning/landscape_scr...</td>\n",
       "    </tr>\n",
       "    <tr>\n",
       "      <th>1</th>\n",
       "      <td>376</td>\n",
       "      <td>646</td>\n",
       "      <td>30</td>\n",
       "      <td>1.08</td>\n",
       "      <td>/Users/anthonywang/Deep_Learning/landscape_scr...</td>\n",
       "    </tr>\n",
       "    <tr>\n",
       "      <th>2</th>\n",
       "      <td>246</td>\n",
       "      <td>281</td>\n",
       "      <td>30</td>\n",
       "      <td>1.10</td>\n",
       "      <td>/Users/anthonywang/Deep_Learning/landscape_scr...</td>\n",
       "    </tr>\n",
       "    <tr>\n",
       "      <th>3</th>\n",
       "      <td>480</td>\n",
       "      <td>360</td>\n",
       "      <td>174</td>\n",
       "      <td>1.08</td>\n",
       "      <td>/Users/anthonywang/Deep_Learning/landscape_scr...</td>\n",
       "    </tr>\n",
       "    <tr>\n",
       "      <th>4</th>\n",
       "      <td>223</td>\n",
       "      <td>430</td>\n",
       "      <td>111</td>\n",
       "      <td>1.14</td>\n",
       "      <td>/Users/anthonywang/Deep_Learning/landscape_scr...</td>\n",
       "    </tr>\n",
       "  </tbody>\n",
       "</table>\n",
       "</div>"
      ],
      "text/plain": [
       "     x    y    r  discolor_ratio  \\\n",
       "0  599  120   89            1.08   \n",
       "1  376  646   30            1.08   \n",
       "2  246  281   30            1.10   \n",
       "3  480  360  174            1.08   \n",
       "4  223  430  111            1.14   \n",
       "\n",
       "                                            img_path  \n",
       "0  /Users/anthonywang/Deep_Learning/landscape_scr...  \n",
       "1  /Users/anthonywang/Deep_Learning/landscape_scr...  \n",
       "2  /Users/anthonywang/Deep_Learning/landscape_scr...  \n",
       "3  /Users/anthonywang/Deep_Learning/landscape_scr...  \n",
       "4  /Users/anthonywang/Deep_Learning/landscape_scr...  "
      ]
     },
     "execution_count": 71,
     "metadata": {},
     "output_type": "execute_result"
    }
   ],
   "source": [
    "! rm -rf /Users/anthonywang/Deep_Learning/landscape_scrambled/\n",
    "! rm /Users/anthonywang/Deep_Learning/scrambled_imgs_df.csv\n",
    "! mkdir /Users/anthonywang/Deep_Learning/landscape_scrambled/\n",
    "\n",
    "raw_img_folder = '/Users/anthonywang/Deep_Learning/landscape/'\n",
    "scrambled_img_folder = '/Users/anthonywang/Deep_Learning/landscape_scrambled/'\n",
    "raw_img_names = os.listdir(raw_img_folder)\n",
    "rows = []\n",
    "\n",
    "for i, raw_img_name in enumerate(raw_img_names):\n",
    "    row = {}\n",
    "    raw_img = Image.open(raw_img_folder + raw_img_name)\n",
    "    raw_img = raw_img.resize((800, 800), Image.ANTIALIAS)\n",
    "    raw_img_arr = np.array(raw_img)\n",
    "    x = np.random.randint(100, 701)\n",
    "    y = np.random.randint(100, 701)\n",
    "    r = max(30, np.random.randint(min(min(x, 800-x), min(y, 800-y))))\n",
    "    discolor_ratio = round(np.random.uniform(1.05, 1.15), 2)\n",
    "    scrambled_img_arr = get_discolored_img(raw_img_arr, x, y, r, discolor_ratio)\n",
    "    scrambled_img = Image.fromarray(scrambled_img_arr)\n",
    "    scrambled_img_name = scrambled_img_folder + str(i) + '.jpg'\n",
    "    scrambled_img.save(scrambled_img_name, 'JPEG')\n",
    "    row['x'] = x\n",
    "    row['y'] = y\n",
    "    row['r'] = r\n",
    "    row['discolor_ratio'] = discolor_ratio\n",
    "    row['img_path'] = scrambled_img_name\n",
    "    rows.append(row)\n",
    "    \n",
    "\n",
    "\n",
    "df = pd.DataFrame(rows)\n",
    "df.to_csv('scrambled_imgs_df.csv', encoding='utf-8', index=True)\n",
    "df.head()"
   ]
  }
 ],
 "metadata": {
  "kernelspec": {
   "display_name": "Python 3",
   "language": "python",
   "name": "python3"
  },
  "language_info": {
   "codemirror_mode": {
    "name": "ipython",
    "version": 3
   },
   "file_extension": ".py",
   "mimetype": "text/x-python",
   "name": "python",
   "nbconvert_exporter": "python",
   "pygments_lexer": "ipython3",
   "version": "3.8.8"
  }
 },
 "nbformat": 4,
 "nbformat_minor": 5
}
